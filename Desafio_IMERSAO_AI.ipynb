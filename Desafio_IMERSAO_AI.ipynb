{
  "nbformat": 4,
  "nbformat_minor": 0,
  "metadata": {
    "colab": {
      "provenance": []
    },
    "kernelspec": {
      "name": "python3",
      "display_name": "Python 3"
    },
    "language_info": {
      "name": "python"
    }
  },
  "cells": [
    {
      "cell_type": "code",
      "execution_count": 1,
      "metadata": {
        "id": "A5_KGds4vjOy"
      },
      "outputs": [],
      "source": [
        "pip install -q -U google-generativeai"
      ]
    },
    {
      "cell_type": "code",
      "source": [
        "import google.generativeai as genai\n",
        "from google.colab import userdata\n",
        "api_key = userdata.get('SOME_KEY')\n",
        "genai.configure(api_key=api_key)\n",
        "\n",
        "# lets set up the model\n",
        "\n",
        "generation_config = {\n",
        "    \"temperature\" : 0.5,\n",
        "    \"top_p\" : 0.95,\n",
        "    \"top_k\" : 35,\n",
        "    \"max_output_tokens\" : 1000,\n",
        "}\n",
        "\n",
        "safety_settings = [\n",
        "    {\n",
        "        \"category\": \"HARM_CATEGORY_HARASSMENT\",\n",
        "        \"threshold\": \"BLOCK_MEDIUM_AND_ABOVE\",\n",
        "\n",
        "        \"category\": \"HARM_CATEGORY_HATE_SPEECH\",\n",
        "        \"threshold\": \"BLOCK_MEDIUM_AND_ABOVE\",\n",
        "\n",
        "        \"category\": \"HARM_CATEGORY_SEXUALLY_EXPLICIT\",\n",
        "        \"threshold\": \"BLOCK_MEDIUM_AND_ABOVE\",\n",
        "\n",
        "        \"category\": \"HARM_CATEGORY_DANGEROUS_CONTENT\",\n",
        "        \"threshold\": \"BLOCK_MEDIUM_AND_ABOVE\",\n",
        "    }\n",
        "]\n",
        "\n",
        "\n",
        "\n",
        "model = genai.GenerativeModel(model_name=\"gemini-1.0-pro\",\n",
        "                                  generation_config=generation_config,\n",
        "                                  safety_settings=safety_settings)\n",
        "\n",
        "#response = model.generate_content(\"Vamos buscal las clinicas mas cercanas.\")\n",
        "#print(response.text)\n",
        "print(\" Buenas Tardes !\" \"\\n\")\n",
        "print(\"\\n\")\n",
        "print(\" Bien venido a nuesta pagina assistencia al turismo familiar.\", \"\\n\")\n",
        "print(\" Listos a responder sus preguntas.\")\n",
        "print(\"\\n\")\n",
        "print(\" Para terminar introduce : fim\")\n",
        "print(\"\\n\")\n",
        "\n",
        "chat = model.start_chat(history=[])\n",
        "\n",
        "prompt = input(\"Esperando su pregunta :\")\n",
        "\n",
        "while prompt != \"fim\":\n",
        "  response = chat.send_message(prompt)\n",
        "  print(\"Resposta : \" , response.text, \"\\n\")\n",
        "  prompt = input(\"Esperando Prompt: \")"
      ],
      "metadata": {
        "colab": {
          "base_uri": "https://localhost:8080/"
        },
        "id": "NjyXgBW_xDFO",
        "outputId": "4358730f-b399-49ed-9583-e94ec79179d4"
      },
      "execution_count": 20,
      "outputs": [
        {
          "name": "stdout",
          "output_type": "stream",
          "text": [
            " Buenas Tardes !\n",
            "\n",
            "\n",
            "\n",
            " Bien venido a nuesta pagina assistencia al turismo familiar. \n",
            "\n",
            " Listos a responder sus preguntas.\n",
            "\n",
            "\n",
            " Para terminar introduce : fim\n",
            "\n",
            "\n",
            "Esperando su pregunta :fim\n"
          ]
        }
      ]
    }
  ]
}